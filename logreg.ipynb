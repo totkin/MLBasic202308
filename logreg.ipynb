{
 "cells": [
  {
   "cell_type": "markdown",
   "metadata": {},
   "source": [
    "<h1 align='center'>Итоговая работа</h1>"
   ]
  },
  {
   "cell_type": "markdown",
   "metadata": {},
   "source": [
    "\n",
    "### Реализация логистической регрессии с градиентным спуском и регуляризацией\n",
    "<hr>\n",
    "\n",
    "**Цель:** \n",
    "отработать технику разработки модулей(PyCharm) для их использования в jupyter notebook\n",
    "\n",
    "**Проведенные работы**\n",
    "- подготовлен класс RegLogReg с интерфесом fit, predict, probe\n",
    "  - разработка класса проведена с использованием ABC\n",
    "  - класс снабжен дополнительным методом для визуализации (экспорт в png)\n",
    "  - основные параметры могут быть настроены, для удобства использования проставлены дефолтные значения\n",
    "- дополнительные работы:\n",
    "  - написан базовый тест [test_RegLogReg.py](test_RegLogReg.py) unittest\n",
    "  - итерационный процесс логирован в папку logs, пример - [rlr.py_20240303-163353_.log](logs%2Frlr.py_20240303-163353_.log)\n",
    "  - предусмотрено сохранение иллюстраций ```plotly``` в папку assets, пример:\n",
    "\n",
    "  <img src=\"assets/rlr.py_20240303-163353.png\" width=\"300\">\n",
    "  \n",
    "  - написаны вспомогательные утилиты и генератор случайных сбалансированных датасетов для Логистической регрессии на базе ```make_classification``` с сохранением в файл\n",
    "- созданный класс применен в jupyter notebook, где проведены следующие работы:\n",
    "  - датасеты несбалансированы относительно цели, произведено частичное усечение в рамках учебной задачи\n",
    "  - небольшой EDA датасета с числовыми фичами\n",
    "  - базовая доработка данных \n",
    "  - реализовано моделирование на основе разработанного класса\n",
    "  - результат сравнен с базовым алгоритмом LogisticRegression"
   ]
  },
  {
   "cell_type": "markdown",
   "metadata": {},
   "source": [
    "## 0. Инициализация"
   ]
  },
  {
   "cell_type": "code",
   "execution_count": 1,
   "metadata": {},
   "outputs": [
    {
     "name": "stdout",
     "output_type": "stream",
     "text": [
      "pandas: 2.2.1\n",
      "numpy: 1.25.2\n"
     ]
    },
    {
     "data": {
      "text/html": [
       "        <script type=\"text/javascript\">\n",
       "        window.PlotlyConfig = {MathJaxConfig: 'local'};\n",
       "        if (window.MathJax && window.MathJax.Hub && window.MathJax.Hub.Config) {window.MathJax.Hub.Config({SVG: {font: \"STIX-Web\"}});}\n",
       "        if (typeof require !== 'undefined') {\n",
       "        require.undef(\"plotly\");\n",
       "        requirejs.config({\n",
       "            paths: {\n",
       "                'plotly': ['https://cdn.plot.ly/plotly-2.29.1.min']\n",
       "            }\n",
       "        });\n",
       "        require(['plotly'], function(Plotly) {\n",
       "            window._Plotly = Plotly;\n",
       "        });\n",
       "        }\n",
       "        </script>\n",
       "        "
      ]
     },
     "metadata": {},
     "output_type": "display_data"
    }
   ],
   "source": [
    "import pandas as pd\n",
    "print(f'pandas: {pd.__version__}')\n",
    "\n",
    "import numpy as np\n",
    "print(f'numpy: {np.__version__}')\n",
    "\n",
    "import matplotlib.pyplot as plt\n",
    "import seaborn as sns; sns.set()\n",
    "\n",
    "import plotly.graph_objs as go\n",
    "from plotly.offline import init_notebook_mode, iplot\n",
    "init_notebook_mode(connected=True)\n",
    "\n",
    "from IPython.display import HTML, display\n",
    "import tqdm\n",
    "\n",
    "# !pip install imbalanced-learn\n",
    "# import imblearn\n",
    "# print(f'imblearn: {imblearn.__version__}')\n",
    "\n",
    "%matplotlib inline"
   ]
  },
  {
   "cell_type": "markdown",
   "metadata": {},
   "source": [
    "## 1. Загрузка данных и краткий обзор\n",
    "После загрузки данные приводятся к единообразной структуре.\n",
    "\n",
    "Из-за того, что у нас датасеты сильно смещены в сторону no/0 (>80%) по целевому значению, в учебных целях усекаем данные для получения сбалансированного набора данных."
   ]
  },
  {
   "cell_type": "markdown",
   "metadata": {},
   "source": [
    "### Вспомогательные функции"
   ]
  },
  {
   "cell_type": "code",
   "execution_count": 2,
   "metadata": {},
   "outputs": [],
   "source": [
    "def short_describe(df, target_name='target'):\n",
    "    display(HTML(f'''\n",
    "    <b>Shape:</b> {df.shape[0]} rows x {df.shape[1]} columns\n",
    "    <br><b>Duplicates:</b> {df.duplicated().sum()}\n",
    "    <br><b>Rows with null values:</b> {df.isna().any(axis=1).sum()}<hr>'''))\n",
    "    display(df.describe(include='all').T)\n",
    "    \n",
    "    lst_num = df.select_dtypes(include='number').columns.tolist()\n",
    "    lst_str = df.select_dtypes(include='object').columns.tolist()\n",
    "    if len(lst_num):\n",
    "        display(HTML(f'<hr><b>Numeric columns ({len(lst_num)}):</b>'))\n",
    "        print(lst_num)\n",
    "    if len(lst_str):\n",
    "        display(HTML(f'<hr><b>String columns ({len(lst_str)}):</b>'))\n",
    "        print(lst_str)\n",
    "    \n",
    "    display(HTML(\"<hr>\\n<b>Balance</b>\"))\n",
    "    display(df[target_name].value_counts(normalize=True))\n",
    "\n",
    "    return lst_num, lst_str\n",
    "\n",
    "def make_well_balance_df(df, target_name = 'target', minor_value = 1, coeff = 0.1 ):\n",
    "    '''\n",
    "    функция создает датафрейм со сдвигом в \"большем классе\" количества значений на указанный %\n",
    "    '''\n",
    "    df_ones = df[df[target_name] == minor_value]\n",
    "    ones_count=np.round(df_ones.shape[0] * (1 + coeff)).astype(int)\n",
    "    df_zeros = df[df[target_name] != minor_value].sample(n=ones_count)\n",
    "    return pd.concat([df_ones, df_zeros]).drop_duplicates()"
   ]
  },
  {
   "cell_type": "markdown",
   "metadata": {},
   "source": [
    "bank-additional-full.zip - The data is related with direct marketing campaigns (phone calls) of a Portuguese banking institution. , <a href=\"https://www.kaggle.com/datasets/henriqueyamahata/bank-marketing/data\">kaggle bank-marketing</a>"
   ]
  },
  {
   "cell_type": "code",
   "execution_count": 3,
   "metadata": {},
   "outputs": [
    {
     "data": {
      "text/html": [
       "\n",
       "    <b>Shape:</b> 10670 rows x 21 columns\n",
       "    <br><b>Duplicates:</b> 0\n",
       "    <br><b>Rows with null values:</b> 0<hr>"
      ],
      "text/plain": [
       "<IPython.core.display.HTML object>"
      ]
     },
     "metadata": {},
     "output_type": "display_data"
    },
    {
     "data": {
      "text/html": [
       "<div>\n",
       "<style scoped>\n",
       "    .dataframe tbody tr th:only-of-type {\n",
       "        vertical-align: middle;\n",
       "    }\n",
       "\n",
       "    .dataframe tbody tr th {\n",
       "        vertical-align: top;\n",
       "    }\n",
       "\n",
       "    .dataframe thead th {\n",
       "        text-align: right;\n",
       "    }\n",
       "</style>\n",
       "<table border=\"1\" class=\"dataframe\">\n",
       "  <thead>\n",
       "    <tr style=\"text-align: right;\">\n",
       "      <th></th>\n",
       "      <th>count</th>\n",
       "      <th>unique</th>\n",
       "      <th>top</th>\n",
       "      <th>freq</th>\n",
       "      <th>mean</th>\n",
       "      <th>std</th>\n",
       "      <th>min</th>\n",
       "      <th>25%</th>\n",
       "      <th>50%</th>\n",
       "      <th>75%</th>\n",
       "      <th>max</th>\n",
       "    </tr>\n",
       "  </thead>\n",
       "  <tbody>\n",
       "    <tr>\n",
       "      <th>age</th>\n",
       "      <td>10670.0</td>\n",
       "      <td>NaN</td>\n",
       "      <td>NaN</td>\n",
       "      <td>NaN</td>\n",
       "      <td>40.334677</td>\n",
       "      <td>11.779967</td>\n",
       "      <td>17.0</td>\n",
       "      <td>31.0</td>\n",
       "      <td>38.0</td>\n",
       "      <td>48.0</td>\n",
       "      <td>98.0</td>\n",
       "    </tr>\n",
       "    <tr>\n",
       "      <th>job</th>\n",
       "      <td>10670</td>\n",
       "      <td>12</td>\n",
       "      <td>admin.</td>\n",
       "      <td>2825</td>\n",
       "      <td>NaN</td>\n",
       "      <td>NaN</td>\n",
       "      <td>NaN</td>\n",
       "      <td>NaN</td>\n",
       "      <td>NaN</td>\n",
       "      <td>NaN</td>\n",
       "      <td>NaN</td>\n",
       "    </tr>\n",
       "    <tr>\n",
       "      <th>marital</th>\n",
       "      <td>10670</td>\n",
       "      <td>4</td>\n",
       "      <td>married</td>\n",
       "      <td>6239</td>\n",
       "      <td>NaN</td>\n",
       "      <td>NaN</td>\n",
       "      <td>NaN</td>\n",
       "      <td>NaN</td>\n",
       "      <td>NaN</td>\n",
       "      <td>NaN</td>\n",
       "      <td>NaN</td>\n",
       "    </tr>\n",
       "    <tr>\n",
       "      <th>education</th>\n",
       "      <td>10670</td>\n",
       "      <td>8</td>\n",
       "      <td>university.degree</td>\n",
       "      <td>3381</td>\n",
       "      <td>NaN</td>\n",
       "      <td>NaN</td>\n",
       "      <td>NaN</td>\n",
       "      <td>NaN</td>\n",
       "      <td>NaN</td>\n",
       "      <td>NaN</td>\n",
       "      <td>NaN</td>\n",
       "    </tr>\n",
       "    <tr>\n",
       "      <th>default</th>\n",
       "      <td>10670</td>\n",
       "      <td>2</td>\n",
       "      <td>no</td>\n",
       "      <td>8822</td>\n",
       "      <td>NaN</td>\n",
       "      <td>NaN</td>\n",
       "      <td>NaN</td>\n",
       "      <td>NaN</td>\n",
       "      <td>NaN</td>\n",
       "      <td>NaN</td>\n",
       "      <td>NaN</td>\n",
       "    </tr>\n",
       "    <tr>\n",
       "      <th>housing</th>\n",
       "      <td>10670</td>\n",
       "      <td>3</td>\n",
       "      <td>yes</td>\n",
       "      <td>5595</td>\n",
       "      <td>NaN</td>\n",
       "      <td>NaN</td>\n",
       "      <td>NaN</td>\n",
       "      <td>NaN</td>\n",
       "      <td>NaN</td>\n",
       "      <td>NaN</td>\n",
       "      <td>NaN</td>\n",
       "    </tr>\n",
       "    <tr>\n",
       "      <th>loan</th>\n",
       "      <td>10670</td>\n",
       "      <td>3</td>\n",
       "      <td>no</td>\n",
       "      <td>8792</td>\n",
       "      <td>NaN</td>\n",
       "      <td>NaN</td>\n",
       "      <td>NaN</td>\n",
       "      <td>NaN</td>\n",
       "      <td>NaN</td>\n",
       "      <td>NaN</td>\n",
       "      <td>NaN</td>\n",
       "    </tr>\n",
       "    <tr>\n",
       "      <th>contact</th>\n",
       "      <td>10670</td>\n",
       "      <td>2</td>\n",
       "      <td>cellular</td>\n",
       "      <td>7588</td>\n",
       "      <td>NaN</td>\n",
       "      <td>NaN</td>\n",
       "      <td>NaN</td>\n",
       "      <td>NaN</td>\n",
       "      <td>NaN</td>\n",
       "      <td>NaN</td>\n",
       "      <td>NaN</td>\n",
       "    </tr>\n",
       "    <tr>\n",
       "      <th>month</th>\n",
       "      <td>10670</td>\n",
       "      <td>10</td>\n",
       "      <td>may</td>\n",
       "      <td>3010</td>\n",
       "      <td>NaN</td>\n",
       "      <td>NaN</td>\n",
       "      <td>NaN</td>\n",
       "      <td>NaN</td>\n",
       "      <td>NaN</td>\n",
       "      <td>NaN</td>\n",
       "      <td>NaN</td>\n",
       "    </tr>\n",
       "    <tr>\n",
       "      <th>day_of_week</th>\n",
       "      <td>10670</td>\n",
       "      <td>5</td>\n",
       "      <td>thu</td>\n",
       "      <td>2276</td>\n",
       "      <td>NaN</td>\n",
       "      <td>NaN</td>\n",
       "      <td>NaN</td>\n",
       "      <td>NaN</td>\n",
       "      <td>NaN</td>\n",
       "      <td>NaN</td>\n",
       "      <td>NaN</td>\n",
       "    </tr>\n",
       "    <tr>\n",
       "      <th>duration</th>\n",
       "      <td>10670.0</td>\n",
       "      <td>NaN</td>\n",
       "      <td>NaN</td>\n",
       "      <td>NaN</td>\n",
       "      <td>366.047891</td>\n",
       "      <td>349.269272</td>\n",
       "      <td>0.0</td>\n",
       "      <td>135.0</td>\n",
       "      <td>250.0</td>\n",
       "      <td>483.0</td>\n",
       "      <td>4199.0</td>\n",
       "    </tr>\n",
       "    <tr>\n",
       "      <th>campaign</th>\n",
       "      <td>10670.0</td>\n",
       "      <td>NaN</td>\n",
       "      <td>NaN</td>\n",
       "      <td>NaN</td>\n",
       "      <td>2.383318</td>\n",
       "      <td>2.48207</td>\n",
       "      <td>1.0</td>\n",
       "      <td>1.0</td>\n",
       "      <td>2.0</td>\n",
       "      <td>3.0</td>\n",
       "      <td>42.0</td>\n",
       "    </tr>\n",
       "    <tr>\n",
       "      <th>pdays</th>\n",
       "      <td>10670.0</td>\n",
       "      <td>NaN</td>\n",
       "      <td>NaN</td>\n",
       "      <td>NaN</td>\n",
       "      <td>900.157451</td>\n",
       "      <td>297.318506</td>\n",
       "      <td>0.0</td>\n",
       "      <td>999.0</td>\n",
       "      <td>999.0</td>\n",
       "      <td>999.0</td>\n",
       "      <td>999.0</td>\n",
       "    </tr>\n",
       "    <tr>\n",
       "      <th>previous</th>\n",
       "      <td>10670.0</td>\n",
       "      <td>NaN</td>\n",
       "      <td>NaN</td>\n",
       "      <td>NaN</td>\n",
       "      <td>0.294752</td>\n",
       "      <td>0.672004</td>\n",
       "      <td>0.0</td>\n",
       "      <td>0.0</td>\n",
       "      <td>0.0</td>\n",
       "      <td>0.0</td>\n",
       "      <td>6.0</td>\n",
       "    </tr>\n",
       "    <tr>\n",
       "      <th>poutcome</th>\n",
       "      <td>10670</td>\n",
       "      <td>3</td>\n",
       "      <td>nonexistent</td>\n",
       "      <td>8441</td>\n",
       "      <td>NaN</td>\n",
       "      <td>NaN</td>\n",
       "      <td>NaN</td>\n",
       "      <td>NaN</td>\n",
       "      <td>NaN</td>\n",
       "      <td>NaN</td>\n",
       "      <td>NaN</td>\n",
       "    </tr>\n",
       "    <tr>\n",
       "      <th>emp.var.rate</th>\n",
       "      <td>10670.0</td>\n",
       "      <td>NaN</td>\n",
       "      <td>NaN</td>\n",
       "      <td>NaN</td>\n",
       "      <td>-0.400675</td>\n",
       "      <td>1.710835</td>\n",
       "      <td>-3.4</td>\n",
       "      <td>-1.8</td>\n",
       "      <td>-0.1</td>\n",
       "      <td>1.4</td>\n",
       "      <td>1.4</td>\n",
       "    </tr>\n",
       "    <tr>\n",
       "      <th>cons.price.idx</th>\n",
       "      <td>10670.0</td>\n",
       "      <td>NaN</td>\n",
       "      <td>NaN</td>\n",
       "      <td>NaN</td>\n",
       "      <td>93.491381</td>\n",
       "      <td>0.623775</td>\n",
       "      <td>92.201</td>\n",
       "      <td>92.963</td>\n",
       "      <td>93.444</td>\n",
       "      <td>93.994</td>\n",
       "      <td>94.767</td>\n",
       "    </tr>\n",
       "    <tr>\n",
       "      <th>cons.conf.idx</th>\n",
       "      <td>10670.0</td>\n",
       "      <td>NaN</td>\n",
       "      <td>NaN</td>\n",
       "      <td>NaN</td>\n",
       "      <td>-40.286195</td>\n",
       "      <td>5.258055</td>\n",
       "      <td>-50.8</td>\n",
       "      <td>-42.7</td>\n",
       "      <td>-41.8</td>\n",
       "      <td>-36.4</td>\n",
       "      <td>-26.9</td>\n",
       "    </tr>\n",
       "    <tr>\n",
       "      <th>euribor3m</th>\n",
       "      <td>10670.0</td>\n",
       "      <td>NaN</td>\n",
       "      <td>NaN</td>\n",
       "      <td>NaN</td>\n",
       "      <td>3.072396</td>\n",
       "      <td>1.878425</td>\n",
       "      <td>0.634</td>\n",
       "      <td>1.26</td>\n",
       "      <td>4.076</td>\n",
       "      <td>4.96</td>\n",
       "      <td>5.045</td>\n",
       "    </tr>\n",
       "    <tr>\n",
       "      <th>nr.employed</th>\n",
       "      <td>10670.0</td>\n",
       "      <td>NaN</td>\n",
       "      <td>NaN</td>\n",
       "      <td>NaN</td>\n",
       "      <td>5140.959044</td>\n",
       "      <td>85.213355</td>\n",
       "      <td>4963.6</td>\n",
       "      <td>5099.1</td>\n",
       "      <td>5191.0</td>\n",
       "      <td>5228.1</td>\n",
       "      <td>5228.1</td>\n",
       "    </tr>\n",
       "    <tr>\n",
       "      <th>target</th>\n",
       "      <td>10670.0</td>\n",
       "      <td>NaN</td>\n",
       "      <td>NaN</td>\n",
       "      <td>NaN</td>\n",
       "      <td>0.43477</td>\n",
       "      <td>0.49575</td>\n",
       "      <td>0.0</td>\n",
       "      <td>0.0</td>\n",
       "      <td>0.0</td>\n",
       "      <td>1.0</td>\n",
       "      <td>1.0</td>\n",
       "    </tr>\n",
       "  </tbody>\n",
       "</table>\n",
       "</div>"
      ],
      "text/plain": [
       "                  count unique                top  freq         mean  \\\n",
       "age             10670.0    NaN                NaN   NaN    40.334677   \n",
       "job               10670     12             admin.  2825          NaN   \n",
       "marital           10670      4            married  6239          NaN   \n",
       "education         10670      8  university.degree  3381          NaN   \n",
       "default           10670      2                 no  8822          NaN   \n",
       "housing           10670      3                yes  5595          NaN   \n",
       "loan              10670      3                 no  8792          NaN   \n",
       "contact           10670      2           cellular  7588          NaN   \n",
       "month             10670     10                may  3010          NaN   \n",
       "day_of_week       10670      5                thu  2276          NaN   \n",
       "duration        10670.0    NaN                NaN   NaN   366.047891   \n",
       "campaign        10670.0    NaN                NaN   NaN     2.383318   \n",
       "pdays           10670.0    NaN                NaN   NaN   900.157451   \n",
       "previous        10670.0    NaN                NaN   NaN     0.294752   \n",
       "poutcome          10670      3        nonexistent  8441          NaN   \n",
       "emp.var.rate    10670.0    NaN                NaN   NaN    -0.400675   \n",
       "cons.price.idx  10670.0    NaN                NaN   NaN    93.491381   \n",
       "cons.conf.idx   10670.0    NaN                NaN   NaN   -40.286195   \n",
       "euribor3m       10670.0    NaN                NaN   NaN     3.072396   \n",
       "nr.employed     10670.0    NaN                NaN   NaN  5140.959044   \n",
       "target          10670.0    NaN                NaN   NaN      0.43477   \n",
       "\n",
       "                       std     min     25%     50%     75%     max  \n",
       "age              11.779967    17.0    31.0    38.0    48.0    98.0  \n",
       "job                    NaN     NaN     NaN     NaN     NaN     NaN  \n",
       "marital                NaN     NaN     NaN     NaN     NaN     NaN  \n",
       "education              NaN     NaN     NaN     NaN     NaN     NaN  \n",
       "default                NaN     NaN     NaN     NaN     NaN     NaN  \n",
       "housing                NaN     NaN     NaN     NaN     NaN     NaN  \n",
       "loan                   NaN     NaN     NaN     NaN     NaN     NaN  \n",
       "contact                NaN     NaN     NaN     NaN     NaN     NaN  \n",
       "month                  NaN     NaN     NaN     NaN     NaN     NaN  \n",
       "day_of_week            NaN     NaN     NaN     NaN     NaN     NaN  \n",
       "duration        349.269272     0.0   135.0   250.0   483.0  4199.0  \n",
       "campaign           2.48207     1.0     1.0     2.0     3.0    42.0  \n",
       "pdays           297.318506     0.0   999.0   999.0   999.0   999.0  \n",
       "previous          0.672004     0.0     0.0     0.0     0.0     6.0  \n",
       "poutcome               NaN     NaN     NaN     NaN     NaN     NaN  \n",
       "emp.var.rate      1.710835    -3.4    -1.8    -0.1     1.4     1.4  \n",
       "cons.price.idx    0.623775  92.201  92.963  93.444  93.994  94.767  \n",
       "cons.conf.idx     5.258055   -50.8   -42.7   -41.8   -36.4   -26.9  \n",
       "euribor3m         1.878425   0.634    1.26   4.076    4.96   5.045  \n",
       "nr.employed      85.213355  4963.6  5099.1  5191.0  5228.1  5228.1  \n",
       "target             0.49575     0.0     0.0     0.0     1.0     1.0  "
      ]
     },
     "metadata": {},
     "output_type": "display_data"
    },
    {
     "data": {
      "text/html": [
       "<hr><b>Numeric columns (11):</b>"
      ],
      "text/plain": [
       "<IPython.core.display.HTML object>"
      ]
     },
     "metadata": {},
     "output_type": "display_data"
    },
    {
     "name": "stdout",
     "output_type": "stream",
     "text": [
      "['age', 'duration', 'campaign', 'pdays', 'previous', 'emp.var.rate', 'cons.price.idx', 'cons.conf.idx', 'euribor3m', 'nr.employed', 'target']\n"
     ]
    },
    {
     "data": {
      "text/html": [
       "<hr><b>String columns (10):</b>"
      ],
      "text/plain": [
       "<IPython.core.display.HTML object>"
      ]
     },
     "metadata": {},
     "output_type": "display_data"
    },
    {
     "name": "stdout",
     "output_type": "stream",
     "text": [
      "['job', 'marital', 'education', 'default', 'housing', 'loan', 'contact', 'month', 'day_of_week', 'poutcome']\n"
     ]
    },
    {
     "data": {
      "text/html": [
       "<hr>\n",
       "<b>Balance</b>"
      ],
      "text/plain": [
       "<IPython.core.display.HTML object>"
      ]
     },
     "metadata": {},
     "output_type": "display_data"
    },
    {
     "data": {
      "text/plain": [
       "target\n",
       "0    0.56523\n",
       "1    0.43477\n",
       "Name: proportion, dtype: float64"
      ]
     },
     "metadata": {},
     "output_type": "display_data"
    },
    {
     "name": "stdout",
     "output_type": "stream",
     "text": [
      "CPU times: user 81 ms, sys: 29 ms, total: 110 ms\n",
      "Wall time: 110 ms\n"
     ]
    }
   ],
   "source": [
    "%%time\n",
    "\n",
    "strFileName1='data/bank-additional-full.zip'\n",
    "df1 = pd.read_csv(strFileName1, compression='zip', sep=';')\n",
    "df1.head()\n",
    "df1['y'] = df1['y'].map({'yes': 1, 'no': 0})\n",
    "df1.rename(columns={'y': 'target'}, inplace=True)\n",
    "\n",
    "# Создаем новый набор данных\n",
    "df1 = make_well_balance_df(df1, coeff = .3)\n",
    "df1.name='Bank marketing'\n",
    "        \n",
    "cols_num1, cols_str1 = short_describe(df1, target_name='target')"
   ]
  },
  {
   "cell_type": "markdown",
   "metadata": {},
   "source": [
    "---\n",
    "\n",
    "Теперь наборы данных хорошо сбалансированы относительно цели."
   ]
  },
  {
   "cell_type": "markdown",
   "metadata": {},
   "source": [
    "---\n",
    "## 2. Доработаем фичи в набое данных."
   ]
  },
  {
   "cell_type": "markdown",
   "metadata": {},
   "source": [
    "#### Bank marketing\n",
    "Изучим категориальные поля. Из описания датасета известно, что вариантивность каждого из этих полей относительно небольшая, часть полей имеет одинаковое значение 'unknown'. "
   ]
  },
  {
   "cell_type": "code",
   "execution_count": 4,
   "metadata": {},
   "outputs": [
    {
     "data": {
      "text/html": [
       "<b>Bank marketing</b><hr>"
      ],
      "text/plain": [
       "<IPython.core.display.HTML object>"
      ]
     },
     "metadata": {},
     "output_type": "display_data"
    },
    {
     "data": {
      "text/html": [
       "<b>job</b><br>unique = 12, <i>unknown =</i> 89 (0.8%):"
      ],
      "text/plain": [
       "<IPython.core.display.HTML object>"
      ]
     },
     "metadata": {},
     "output_type": "display_data"
    },
    {
     "data": {
      "text/html": [
       "<div>\n",
       "<style scoped>\n",
       "    .dataframe tbody tr th:only-of-type {\n",
       "        vertical-align: middle;\n",
       "    }\n",
       "\n",
       "    .dataframe tbody tr th {\n",
       "        vertical-align: top;\n",
       "    }\n",
       "\n",
       "    .dataframe thead th {\n",
       "        text-align: right;\n",
       "    }\n",
       "</style>\n",
       "<table border=\"1\" class=\"dataframe\">\n",
       "  <thead>\n",
       "    <tr style=\"text-align: right;\">\n",
       "      <th>job</th>\n",
       "      <th>admin.</th>\n",
       "      <th>blue-collar</th>\n",
       "      <th>entrepreneur</th>\n",
       "      <th>housemaid</th>\n",
       "      <th>management</th>\n",
       "      <th>retired</th>\n",
       "      <th>self-employed</th>\n",
       "      <th>services</th>\n",
       "      <th>student</th>\n",
       "      <th>technician</th>\n",
       "      <th>unemployed</th>\n",
       "      <th>unknown</th>\n",
       "    </tr>\n",
       "    <tr>\n",
       "      <th>target</th>\n",
       "      <th></th>\n",
       "      <th></th>\n",
       "      <th></th>\n",
       "      <th></th>\n",
       "      <th></th>\n",
       "      <th></th>\n",
       "      <th></th>\n",
       "      <th></th>\n",
       "      <th></th>\n",
       "      <th></th>\n",
       "      <th></th>\n",
       "      <th></th>\n",
       "    </tr>\n",
       "  </thead>\n",
       "  <tbody>\n",
       "    <tr>\n",
       "      <th>0</th>\n",
       "      <td>1474</td>\n",
       "      <td>1436</td>\n",
       "      <td>229</td>\n",
       "      <td>152</td>\n",
       "      <td>434</td>\n",
       "      <td>200</td>\n",
       "      <td>204</td>\n",
       "      <td>593</td>\n",
       "      <td>97</td>\n",
       "      <td>1012</td>\n",
       "      <td>148</td>\n",
       "      <td>52</td>\n",
       "    </tr>\n",
       "    <tr>\n",
       "      <th>1</th>\n",
       "      <td>1351</td>\n",
       "      <td>638</td>\n",
       "      <td>124</td>\n",
       "      <td>106</td>\n",
       "      <td>328</td>\n",
       "      <td>434</td>\n",
       "      <td>149</td>\n",
       "      <td>323</td>\n",
       "      <td>275</td>\n",
       "      <td>730</td>\n",
       "      <td>144</td>\n",
       "      <td>37</td>\n",
       "    </tr>\n",
       "  </tbody>\n",
       "</table>\n",
       "</div>"
      ],
      "text/plain": [
       "job     admin.  blue-collar  entrepreneur  housemaid  management  retired  \\\n",
       "target                                                                      \n",
       "0         1474         1436           229        152         434      200   \n",
       "1         1351          638           124        106         328      434   \n",
       "\n",
       "job     self-employed  services  student  technician  unemployed  unknown  \n",
       "target                                                                     \n",
       "0                 204       593       97        1012         148       52  \n",
       "1                 149       323      275         730         144       37  "
      ]
     },
     "metadata": {},
     "output_type": "display_data"
    },
    {
     "data": {
      "text/html": [
       "<b>marital</b><br>unique = 4, <i>unknown =</i> 26 (0.2%):"
      ],
      "text/plain": [
       "<IPython.core.display.HTML object>"
      ]
     },
     "metadata": {},
     "output_type": "display_data"
    },
    {
     "data": {
      "text/html": [
       "<div>\n",
       "<style scoped>\n",
       "    .dataframe tbody tr th:only-of-type {\n",
       "        vertical-align: middle;\n",
       "    }\n",
       "\n",
       "    .dataframe tbody tr th {\n",
       "        vertical-align: top;\n",
       "    }\n",
       "\n",
       "    .dataframe thead th {\n",
       "        text-align: right;\n",
       "    }\n",
       "</style>\n",
       "<table border=\"1\" class=\"dataframe\">\n",
       "  <thead>\n",
       "    <tr style=\"text-align: right;\">\n",
       "      <th>marital</th>\n",
       "      <th>divorced</th>\n",
       "      <th>married</th>\n",
       "      <th>single</th>\n",
       "      <th>unknown</th>\n",
       "    </tr>\n",
       "    <tr>\n",
       "      <th>target</th>\n",
       "      <th></th>\n",
       "      <th></th>\n",
       "      <th></th>\n",
       "      <th></th>\n",
       "    </tr>\n",
       "  </thead>\n",
       "  <tbody>\n",
       "    <tr>\n",
       "      <th>0</th>\n",
       "      <td>635</td>\n",
       "      <td>3708</td>\n",
       "      <td>1674</td>\n",
       "      <td>14</td>\n",
       "    </tr>\n",
       "    <tr>\n",
       "      <th>1</th>\n",
       "      <td>476</td>\n",
       "      <td>2531</td>\n",
       "      <td>1620</td>\n",
       "      <td>12</td>\n",
       "    </tr>\n",
       "  </tbody>\n",
       "</table>\n",
       "</div>"
      ],
      "text/plain": [
       "marital  divorced  married  single  unknown\n",
       "target                                     \n",
       "0             635     3708    1674       14\n",
       "1             476     2531    1620       12"
      ]
     },
     "metadata": {},
     "output_type": "display_data"
    },
    {
     "data": {
      "text/html": [
       "<b>education</b><br>unique = 8, <i>unknown =</i> 492 (4.6%):"
      ],
      "text/plain": [
       "<IPython.core.display.HTML object>"
      ]
     },
     "metadata": {},
     "output_type": "display_data"
    },
    {
     "data": {
      "text/html": [
       "<div>\n",
       "<style scoped>\n",
       "    .dataframe tbody tr th:only-of-type {\n",
       "        vertical-align: middle;\n",
       "    }\n",
       "\n",
       "    .dataframe tbody tr th {\n",
       "        vertical-align: top;\n",
       "    }\n",
       "\n",
       "    .dataframe thead th {\n",
       "        text-align: right;\n",
       "    }\n",
       "</style>\n",
       "<table border=\"1\" class=\"dataframe\">\n",
       "  <thead>\n",
       "    <tr style=\"text-align: right;\">\n",
       "      <th>education</th>\n",
       "      <th>basic.4y</th>\n",
       "      <th>basic.6y</th>\n",
       "      <th>basic.9y</th>\n",
       "      <th>high.school</th>\n",
       "      <th>illiterate</th>\n",
       "      <th>professional.course</th>\n",
       "      <th>university.degree</th>\n",
       "      <th>unknown</th>\n",
       "    </tr>\n",
       "    <tr>\n",
       "      <th>target</th>\n",
       "      <th></th>\n",
       "      <th></th>\n",
       "      <th></th>\n",
       "      <th></th>\n",
       "      <th></th>\n",
       "      <th></th>\n",
       "      <th></th>\n",
       "      <th></th>\n",
       "    </tr>\n",
       "  </thead>\n",
       "  <tbody>\n",
       "    <tr>\n",
       "      <th>0</th>\n",
       "      <td>614</td>\n",
       "      <td>348</td>\n",
       "      <td>908</td>\n",
       "      <td>1406</td>\n",
       "      <td>2</td>\n",
       "      <td>800</td>\n",
       "      <td>1712</td>\n",
       "      <td>241</td>\n",
       "    </tr>\n",
       "    <tr>\n",
       "      <th>1</th>\n",
       "      <td>428</td>\n",
       "      <td>188</td>\n",
       "      <td>473</td>\n",
       "      <td>1031</td>\n",
       "      <td>4</td>\n",
       "      <td>595</td>\n",
       "      <td>1669</td>\n",
       "      <td>251</td>\n",
       "    </tr>\n",
       "  </tbody>\n",
       "</table>\n",
       "</div>"
      ],
      "text/plain": [
       "education  basic.4y  basic.6y  basic.9y  high.school  illiterate  \\\n",
       "target                                                             \n",
       "0               614       348       908         1406           2   \n",
       "1               428       188       473         1031           4   \n",
       "\n",
       "education  professional.course  university.degree  unknown  \n",
       "target                                                      \n",
       "0                          800               1712      241  \n",
       "1                          595               1669      251  "
      ]
     },
     "metadata": {},
     "output_type": "display_data"
    },
    {
     "data": {
      "text/html": [
       "<b>default</b><br>unique = 2, <i>unknown =</i> 1848 (17.3%):"
      ],
      "text/plain": [
       "<IPython.core.display.HTML object>"
      ]
     },
     "metadata": {},
     "output_type": "display_data"
    },
    {
     "data": {
      "text/html": [
       "<div>\n",
       "<style scoped>\n",
       "    .dataframe tbody tr th:only-of-type {\n",
       "        vertical-align: middle;\n",
       "    }\n",
       "\n",
       "    .dataframe tbody tr th {\n",
       "        vertical-align: top;\n",
       "    }\n",
       "\n",
       "    .dataframe thead th {\n",
       "        text-align: right;\n",
       "    }\n",
       "</style>\n",
       "<table border=\"1\" class=\"dataframe\">\n",
       "  <thead>\n",
       "    <tr style=\"text-align: right;\">\n",
       "      <th>default</th>\n",
       "      <th>no</th>\n",
       "      <th>unknown</th>\n",
       "    </tr>\n",
       "    <tr>\n",
       "      <th>target</th>\n",
       "      <th></th>\n",
       "      <th></th>\n",
       "    </tr>\n",
       "  </thead>\n",
       "  <tbody>\n",
       "    <tr>\n",
       "      <th>0</th>\n",
       "      <td>4626</td>\n",
       "      <td>1405</td>\n",
       "    </tr>\n",
       "    <tr>\n",
       "      <th>1</th>\n",
       "      <td>4196</td>\n",
       "      <td>443</td>\n",
       "    </tr>\n",
       "  </tbody>\n",
       "</table>\n",
       "</div>"
      ],
      "text/plain": [
       "default    no  unknown\n",
       "target                \n",
       "0        4626     1405\n",
       "1        4196      443"
      ]
     },
     "metadata": {},
     "output_type": "display_data"
    },
    {
     "data": {
      "text/html": [
       "<b>housing</b><br>unique = 3, <i>unknown =</i> 237 (2.2%):"
      ],
      "text/plain": [
       "<IPython.core.display.HTML object>"
      ]
     },
     "metadata": {},
     "output_type": "display_data"
    },
    {
     "data": {
      "text/html": [
       "<div>\n",
       "<style scoped>\n",
       "    .dataframe tbody tr th:only-of-type {\n",
       "        vertical-align: middle;\n",
       "    }\n",
       "\n",
       "    .dataframe tbody tr th {\n",
       "        vertical-align: top;\n",
       "    }\n",
       "\n",
       "    .dataframe thead th {\n",
       "        text-align: right;\n",
       "    }\n",
       "</style>\n",
       "<table border=\"1\" class=\"dataframe\">\n",
       "  <thead>\n",
       "    <tr style=\"text-align: right;\">\n",
       "      <th>housing</th>\n",
       "      <th>no</th>\n",
       "      <th>unknown</th>\n",
       "      <th>yes</th>\n",
       "    </tr>\n",
       "    <tr>\n",
       "      <th>target</th>\n",
       "      <th></th>\n",
       "      <th></th>\n",
       "      <th></th>\n",
       "    </tr>\n",
       "  </thead>\n",
       "  <tbody>\n",
       "    <tr>\n",
       "      <th>0</th>\n",
       "      <td>2813</td>\n",
       "      <td>130</td>\n",
       "      <td>3088</td>\n",
       "    </tr>\n",
       "    <tr>\n",
       "      <th>1</th>\n",
       "      <td>2025</td>\n",
       "      <td>107</td>\n",
       "      <td>2507</td>\n",
       "    </tr>\n",
       "  </tbody>\n",
       "</table>\n",
       "</div>"
      ],
      "text/plain": [
       "housing    no  unknown   yes\n",
       "target                      \n",
       "0        2813      130  3088\n",
       "1        2025      107  2507"
      ]
     },
     "metadata": {},
     "output_type": "display_data"
    },
    {
     "data": {
      "text/html": [
       "<b>loan</b><br>unique = 3, <i>unknown =</i> 237 (2.2%):"
      ],
      "text/plain": [
       "<IPython.core.display.HTML object>"
      ]
     },
     "metadata": {},
     "output_type": "display_data"
    },
    {
     "data": {
      "text/html": [
       "<div>\n",
       "<style scoped>\n",
       "    .dataframe tbody tr th:only-of-type {\n",
       "        vertical-align: middle;\n",
       "    }\n",
       "\n",
       "    .dataframe tbody tr th {\n",
       "        vertical-align: top;\n",
       "    }\n",
       "\n",
       "    .dataframe thead th {\n",
       "        text-align: right;\n",
       "    }\n",
       "</style>\n",
       "<table border=\"1\" class=\"dataframe\">\n",
       "  <thead>\n",
       "    <tr style=\"text-align: right;\">\n",
       "      <th>loan</th>\n",
       "      <th>no</th>\n",
       "      <th>unknown</th>\n",
       "      <th>yes</th>\n",
       "    </tr>\n",
       "    <tr>\n",
       "      <th>target</th>\n",
       "      <th></th>\n",
       "      <th></th>\n",
       "      <th></th>\n",
       "    </tr>\n",
       "  </thead>\n",
       "  <tbody>\n",
       "    <tr>\n",
       "      <th>0</th>\n",
       "      <td>4943</td>\n",
       "      <td>130</td>\n",
       "      <td>958</td>\n",
       "    </tr>\n",
       "    <tr>\n",
       "      <th>1</th>\n",
       "      <td>3849</td>\n",
       "      <td>107</td>\n",
       "      <td>683</td>\n",
       "    </tr>\n",
       "  </tbody>\n",
       "</table>\n",
       "</div>"
      ],
      "text/plain": [
       "loan      no  unknown  yes\n",
       "target                    \n",
       "0       4943      130  958\n",
       "1       3849      107  683"
      ]
     },
     "metadata": {},
     "output_type": "display_data"
    },
    {
     "data": {
      "text/html": [
       "<b>contact</b><br>unique = 2:"
      ],
      "text/plain": [
       "<IPython.core.display.HTML object>"
      ]
     },
     "metadata": {},
     "output_type": "display_data"
    },
    {
     "data": {
      "text/html": [
       "<div>\n",
       "<style scoped>\n",
       "    .dataframe tbody tr th:only-of-type {\n",
       "        vertical-align: middle;\n",
       "    }\n",
       "\n",
       "    .dataframe tbody tr th {\n",
       "        vertical-align: top;\n",
       "    }\n",
       "\n",
       "    .dataframe thead th {\n",
       "        text-align: right;\n",
       "    }\n",
       "</style>\n",
       "<table border=\"1\" class=\"dataframe\">\n",
       "  <thead>\n",
       "    <tr style=\"text-align: right;\">\n",
       "      <th>contact</th>\n",
       "      <th>cellular</th>\n",
       "      <th>telephone</th>\n",
       "    </tr>\n",
       "    <tr>\n",
       "      <th>target</th>\n",
       "      <th></th>\n",
       "      <th></th>\n",
       "    </tr>\n",
       "  </thead>\n",
       "  <tbody>\n",
       "    <tr>\n",
       "      <th>0</th>\n",
       "      <td>3736</td>\n",
       "      <td>2295</td>\n",
       "    </tr>\n",
       "    <tr>\n",
       "      <th>1</th>\n",
       "      <td>3852</td>\n",
       "      <td>787</td>\n",
       "    </tr>\n",
       "  </tbody>\n",
       "</table>\n",
       "</div>"
      ],
      "text/plain": [
       "contact  cellular  telephone\n",
       "target                      \n",
       "0            3736       2295\n",
       "1            3852        787"
      ]
     },
     "metadata": {},
     "output_type": "display_data"
    },
    {
     "data": {
      "text/html": [
       "<b>month</b><br>unique = 10:"
      ],
      "text/plain": [
       "<IPython.core.display.HTML object>"
      ]
     },
     "metadata": {},
     "output_type": "display_data"
    },
    {
     "data": {
      "text/html": [
       "<div>\n",
       "<style scoped>\n",
       "    .dataframe tbody tr th:only-of-type {\n",
       "        vertical-align: middle;\n",
       "    }\n",
       "\n",
       "    .dataframe tbody tr th {\n",
       "        vertical-align: top;\n",
       "    }\n",
       "\n",
       "    .dataframe thead th {\n",
       "        text-align: right;\n",
       "    }\n",
       "</style>\n",
       "<table border=\"1\" class=\"dataframe\">\n",
       "  <thead>\n",
       "    <tr style=\"text-align: right;\">\n",
       "      <th>month</th>\n",
       "      <th>apr</th>\n",
       "      <th>aug</th>\n",
       "      <th>dec</th>\n",
       "      <th>jul</th>\n",
       "      <th>jun</th>\n",
       "      <th>mar</th>\n",
       "      <th>may</th>\n",
       "      <th>nov</th>\n",
       "      <th>oct</th>\n",
       "      <th>sep</th>\n",
       "    </tr>\n",
       "    <tr>\n",
       "      <th>target</th>\n",
       "      <th></th>\n",
       "      <th></th>\n",
       "      <th></th>\n",
       "      <th></th>\n",
       "      <th></th>\n",
       "      <th></th>\n",
       "      <th></th>\n",
       "      <th></th>\n",
       "      <th></th>\n",
       "      <th></th>\n",
       "    </tr>\n",
       "  </thead>\n",
       "  <tbody>\n",
       "    <tr>\n",
       "      <th>0</th>\n",
       "      <td>370</td>\n",
       "      <td>914</td>\n",
       "      <td>12</td>\n",
       "      <td>1056</td>\n",
       "      <td>780</td>\n",
       "      <td>50</td>\n",
       "      <td>2124</td>\n",
       "      <td>610</td>\n",
       "      <td>67</td>\n",
       "      <td>48</td>\n",
       "    </tr>\n",
       "    <tr>\n",
       "      <th>1</th>\n",
       "      <td>539</td>\n",
       "      <td>655</td>\n",
       "      <td>89</td>\n",
       "      <td>648</td>\n",
       "      <td>559</td>\n",
       "      <td>276</td>\n",
       "      <td>886</td>\n",
       "      <td>416</td>\n",
       "      <td>315</td>\n",
       "      <td>256</td>\n",
       "    </tr>\n",
       "  </tbody>\n",
       "</table>\n",
       "</div>"
      ],
      "text/plain": [
       "month   apr  aug  dec   jul  jun  mar   may  nov  oct  sep\n",
       "target                                                    \n",
       "0       370  914   12  1056  780   50  2124  610   67   48\n",
       "1       539  655   89   648  559  276   886  416  315  256"
      ]
     },
     "metadata": {},
     "output_type": "display_data"
    },
    {
     "data": {
      "text/html": [
       "<b>day_of_week</b><br>unique = 5:"
      ],
      "text/plain": [
       "<IPython.core.display.HTML object>"
      ]
     },
     "metadata": {},
     "output_type": "display_data"
    },
    {
     "data": {
      "text/html": [
       "<div>\n",
       "<style scoped>\n",
       "    .dataframe tbody tr th:only-of-type {\n",
       "        vertical-align: middle;\n",
       "    }\n",
       "\n",
       "    .dataframe tbody tr th {\n",
       "        vertical-align: top;\n",
       "    }\n",
       "\n",
       "    .dataframe thead th {\n",
       "        text-align: right;\n",
       "    }\n",
       "</style>\n",
       "<table border=\"1\" class=\"dataframe\">\n",
       "  <thead>\n",
       "    <tr style=\"text-align: right;\">\n",
       "      <th>day_of_week</th>\n",
       "      <th>fri</th>\n",
       "      <th>mon</th>\n",
       "      <th>thu</th>\n",
       "      <th>tue</th>\n",
       "      <th>wed</th>\n",
       "    </tr>\n",
       "    <tr>\n",
       "      <th>target</th>\n",
       "      <th></th>\n",
       "      <th></th>\n",
       "      <th></th>\n",
       "      <th></th>\n",
       "      <th></th>\n",
       "    </tr>\n",
       "  </thead>\n",
       "  <tbody>\n",
       "    <tr>\n",
       "      <th>0</th>\n",
       "      <td>1187</td>\n",
       "      <td>1257</td>\n",
       "      <td>1232</td>\n",
       "      <td>1208</td>\n",
       "      <td>1147</td>\n",
       "    </tr>\n",
       "    <tr>\n",
       "      <th>1</th>\n",
       "      <td>846</td>\n",
       "      <td>847</td>\n",
       "      <td>1044</td>\n",
       "      <td>953</td>\n",
       "      <td>949</td>\n",
       "    </tr>\n",
       "  </tbody>\n",
       "</table>\n",
       "</div>"
      ],
      "text/plain": [
       "day_of_week   fri   mon   thu   tue   wed\n",
       "target                                   \n",
       "0            1187  1257  1232  1208  1147\n",
       "1             846   847  1044   953   949"
      ]
     },
     "metadata": {},
     "output_type": "display_data"
    },
    {
     "data": {
      "text/html": [
       "<b>poutcome</b><br>unique = 3:"
      ],
      "text/plain": [
       "<IPython.core.display.HTML object>"
      ]
     },
     "metadata": {},
     "output_type": "display_data"
    },
    {
     "data": {
      "text/html": [
       "<div>\n",
       "<style scoped>\n",
       "    .dataframe tbody tr th:only-of-type {\n",
       "        vertical-align: middle;\n",
       "    }\n",
       "\n",
       "    .dataframe tbody tr th {\n",
       "        vertical-align: top;\n",
       "    }\n",
       "\n",
       "    .dataframe thead th {\n",
       "        text-align: right;\n",
       "    }\n",
       "</style>\n",
       "<table border=\"1\" class=\"dataframe\">\n",
       "  <thead>\n",
       "    <tr style=\"text-align: right;\">\n",
       "      <th>poutcome</th>\n",
       "      <th>failure</th>\n",
       "      <th>nonexistent</th>\n",
       "      <th>success</th>\n",
       "    </tr>\n",
       "    <tr>\n",
       "      <th>target</th>\n",
       "      <th></th>\n",
       "      <th></th>\n",
       "      <th></th>\n",
       "    </tr>\n",
       "  </thead>\n",
       "  <tbody>\n",
       "    <tr>\n",
       "      <th>0</th>\n",
       "      <td>644</td>\n",
       "      <td>5301</td>\n",
       "      <td>86</td>\n",
       "    </tr>\n",
       "    <tr>\n",
       "      <th>1</th>\n",
       "      <td>605</td>\n",
       "      <td>3140</td>\n",
       "      <td>894</td>\n",
       "    </tr>\n",
       "  </tbody>\n",
       "</table>\n",
       "</div>"
      ],
      "text/plain": [
       "poutcome  failure  nonexistent  success\n",
       "target                                 \n",
       "0             644         5301       86\n",
       "1             605         3140      894"
      ]
     },
     "metadata": {},
     "output_type": "display_data"
    }
   ],
   "source": [
    "# Изучим текстовые поля\n",
    "display(HTML(f'<b>{df1.name}</b><hr>'))\n",
    "total = df1.shape[0]\n",
    "df=df1\n",
    "\n",
    "for f in cols_str1:\n",
    "    u = df[f].unique()\n",
    "    u_text = ''\n",
    "    if 'unknown' in u:\n",
    "        c = df[df[f]=='unknown'].shape[0]\n",
    "        cc = np.round(c*100/total,1)\n",
    "        u_text = f', <i>unknown =</i> {c} ({cc}%)'\n",
    "    cross = df.pivot_table(index=f, columns='target', aggfunc='size', fill_value=0)\n",
    "    display(HTML(f\"<b>{f}</b><br>unique = {len(u)}{u_text}:\"))\n",
    "    display(cross.T)"
   ]
  },
  {
   "cell_type": "markdown",
   "metadata": {},
   "source": [
    "Исходя из узких учебных задач часть данных можно удалить."
   ]
  },
  {
   "cell_type": "code",
   "execution_count": 5,
   "metadata": {},
   "outputs": [
    {
     "name": "stdout",
     "output_type": "stream",
     "text": [
      "Before drop df1.shape:(10670, 21)\n",
      "Count bad rows = 117 (1.1%)\n",
      "After drop df1.shape:(10553, 21)\n"
     ]
    }
   ],
   "source": [
    "print(f'Before drop df1.shape:{df1.shape}')\n",
    "condition = (df1['default'] == 'yes') |(df1['marital'] == 'unknown') |(df1['education']=='illiterate') |(df1['job']=='unknown')\n",
    "s = df1[condition].shape[0]\n",
    "print(f'Count bad rows = {s} ({np.round(s*100/df1.shape[0],2)}%)')\n",
    "df1 = df1.drop(df1[condition].index)\n",
    "print(f'After drop df1.shape:{df1.shape}')"
   ]
  },
  {
   "cell_type": "markdown",
   "metadata": {},
   "source": [
    "<br><br>Остальные переменные кодируем LabelEncoder"
   ]
  },
  {
   "cell_type": "code",
   "execution_count": 6,
   "metadata": {},
   "outputs": [],
   "source": [
    "from sklearn.preprocessing import LabelEncoder"
   ]
  },
  {
   "cell_type": "code",
   "execution_count": 7,
   "metadata": {},
   "outputs": [
    {
     "data": {
      "text/html": [
       "<div>\n",
       "<style scoped>\n",
       "    .dataframe tbody tr th:only-of-type {\n",
       "        vertical-align: middle;\n",
       "    }\n",
       "\n",
       "    .dataframe tbody tr th {\n",
       "        vertical-align: top;\n",
       "    }\n",
       "\n",
       "    .dataframe thead th {\n",
       "        text-align: right;\n",
       "    }\n",
       "</style>\n",
       "<table border=\"1\" class=\"dataframe\">\n",
       "  <thead>\n",
       "    <tr style=\"text-align: right;\">\n",
       "      <th></th>\n",
       "      <th>job</th>\n",
       "      <th>marital</th>\n",
       "      <th>education</th>\n",
       "      <th>default</th>\n",
       "      <th>housing</th>\n",
       "      <th>loan</th>\n",
       "      <th>contact</th>\n",
       "      <th>month</th>\n",
       "      <th>day_of_week</th>\n",
       "      <th>poutcome</th>\n",
       "    </tr>\n",
       "  </thead>\n",
       "  <tbody>\n",
       "    <tr>\n",
       "      <th>75</th>\n",
       "      <td>1</td>\n",
       "      <td>0</td>\n",
       "      <td>0</td>\n",
       "      <td>1</td>\n",
       "      <td>2</td>\n",
       "      <td>0</td>\n",
       "      <td>1</td>\n",
       "      <td>6</td>\n",
       "      <td>1</td>\n",
       "      <td>1</td>\n",
       "    </tr>\n",
       "    <tr>\n",
       "      <th>83</th>\n",
       "      <td>2</td>\n",
       "      <td>1</td>\n",
       "      <td>5</td>\n",
       "      <td>1</td>\n",
       "      <td>2</td>\n",
       "      <td>0</td>\n",
       "      <td>1</td>\n",
       "      <td>6</td>\n",
       "      <td>1</td>\n",
       "      <td>1</td>\n",
       "    </tr>\n",
       "    <tr>\n",
       "      <th>88</th>\n",
       "      <td>9</td>\n",
       "      <td>1</td>\n",
       "      <td>2</td>\n",
       "      <td>0</td>\n",
       "      <td>0</td>\n",
       "      <td>0</td>\n",
       "      <td>1</td>\n",
       "      <td>6</td>\n",
       "      <td>1</td>\n",
       "      <td>1</td>\n",
       "    </tr>\n",
       "    <tr>\n",
       "      <th>129</th>\n",
       "      <td>9</td>\n",
       "      <td>1</td>\n",
       "      <td>4</td>\n",
       "      <td>1</td>\n",
       "      <td>2</td>\n",
       "      <td>0</td>\n",
       "      <td>1</td>\n",
       "      <td>6</td>\n",
       "      <td>1</td>\n",
       "      <td>1</td>\n",
       "    </tr>\n",
       "    <tr>\n",
       "      <th>139</th>\n",
       "      <td>1</td>\n",
       "      <td>1</td>\n",
       "      <td>2</td>\n",
       "      <td>1</td>\n",
       "      <td>2</td>\n",
       "      <td>0</td>\n",
       "      <td>1</td>\n",
       "      <td>6</td>\n",
       "      <td>1</td>\n",
       "      <td>1</td>\n",
       "    </tr>\n",
       "  </tbody>\n",
       "</table>\n",
       "</div>"
      ],
      "text/plain": [
       "     job  marital  education  default  housing  loan  contact  month  \\\n",
       "75     1        0          0        1        2     0        1      6   \n",
       "83     2        1          5        1        2     0        1      6   \n",
       "88     9        1          2        0        0     0        1      6   \n",
       "129    9        1          4        1        2     0        1      6   \n",
       "139    1        1          2        1        2     0        1      6   \n",
       "\n",
       "     day_of_week  poutcome  \n",
       "75             1         1  \n",
       "83             1         1  \n",
       "88             1         1  \n",
       "129            1         1  \n",
       "139            1         1  "
      ]
     },
     "execution_count": 7,
     "metadata": {},
     "output_type": "execute_result"
    }
   ],
   "source": [
    "labelencoder_X = LabelEncoder()\n",
    "for f in cols_str1:\n",
    "    df1[f]= labelencoder_X.fit_transform(df1[f])\n",
    "df1[cols_str1].head()"
   ]
  },
  {
   "cell_type": "markdown",
   "metadata": {},
   "source": [
    "<br><br> Рассмотрим фичи с численными значениями.\n",
    "<br> Пока откладываем: <br>Duration: last contact duration, in seconds (numeric) и <br>Euribor3m: euribor 3 month rate - daily indicator (numeric)"
   ]
  },
  {
   "cell_type": "code",
   "execution_count": 8,
   "metadata": {},
   "outputs": [
    {
     "name": "stdout",
     "output_type": "stream",
     "text": [
      "CPU times: user 1e+03 ns, sys: 1e+03 ns, total: 2 µs\n",
      "Wall time: 3.1 µs\n"
     ]
    },
    {
     "data": {
      "image/png": "[encoded data removed]",
      "text/plain": [
       "<Figure size 2000x800 with 1 Axes>"
      ]
     },
     "metadata": {},
     "output_type": "display_data"
    },
    {
     "data": {
      "image/png": "[encoded data removed]",
      "text/plain": [
       "<Figure size 2000x800 with 1 Axes>"
      ]
     },
     "metadata": {},
     "output_type": "display_data"
    },
    {
     "data": {
      "image/png": "[encoded data removed]",
      "text/plain": [
       "<Figure size 2000x800 with 1 Axes>"
      ]
     },
     "metadata": {},
     "output_type": "display_data"
    },
    {
     "data": {
      "image/png": "[encoded data removed]",
      "text/plain": [
       "<Figure size 2000x800 with 1 Axes>"
      ]
     },
     "metadata": {},
     "output_type": "display_data"
    },
    {
     "data": {
      "image/png": "[encoded data removed]",
      "text/plain": [
       "<Figure size 2000x800 with 1 Axes>"
      ]
     },
     "metadata": {},
     "output_type": "display_data"
    },
    {
     "data": {
      "image/png": "[encoded data removed]",
      "text/plain": [
       "<Figure size 2000x800 with 1 Axes>"
      ]
     },
     "metadata": {},
     "output_type": "display_data"
    },
    {
     "data": {
      "image/png": "[encoded data removed]",
      "text/plain": [
       "<Figure size 2000x800 with 1 Axes>"
      ]
     },
     "metadata": {},
     "output_type": "display_data"
    },
    {
     "data": {
      "image/png": "[encoded data removed]",
      "text/plain": [
       "<Figure size 2000x800 with 1 Axes>"
      ]
     },
     "metadata": {},
     "output_type": "display_data"
    }
   ],
   "source": [
    "%time\n",
    "for f in list(set(cols_num1) - {'target','duration','euribor3m'}):\n",
    "    fig, ax = plt.subplots()\n",
    "    fig.set_size_inches(20, 8)\n",
    "    sns.countplot(x = f, data = df1)\n",
    "    ax.set_xlabel(f, fontsize=15)\n",
    "    ax.set_ylabel('Count', fontsize=15)\n",
    "    ax.set_title(f'Count Distribution', fontsize=15)\n",
    "    sns.despine()"
   ]
  },
  {
   "cell_type": "markdown",
   "metadata": {},
   "source": [
    "По фичам <br>'previous', 'age', 'campaign' приравнять выбросы прилегающим меньшим/большим значениям\n",
    "<br> 'pdays' - скорее всего можно удалить из набора целиком\n",
    "<br> 'nr.employed', 'emp.var.rate' - рассмотреть удаления строк с редкими значениями"
   ]
  },
  {
   "cell_type": "code",
   "execution_count": 9,
   "metadata": {},
   "outputs": [
    {
     "data": {
      "text/html": [
       "<div>\n",
       "<style scoped>\n",
       "    .dataframe tbody tr th:only-of-type {\n",
       "        vertical-align: middle;\n",
       "    }\n",
       "\n",
       "    .dataframe tbody tr th {\n",
       "        vertical-align: top;\n",
       "    }\n",
       "\n",
       "    .dataframe thead th {\n",
       "        text-align: right;\n",
       "    }\n",
       "</style>\n",
       "<table border=\"1\" class=\"dataframe\">\n",
       "  <thead>\n",
       "    <tr style=\"text-align: right;\">\n",
       "      <th>previous</th>\n",
       "      <th>0</th>\n",
       "      <th>1</th>\n",
       "      <th>2</th>\n",
       "      <th>3</th>\n",
       "    </tr>\n",
       "  </thead>\n",
       "  <tbody>\n",
       "    <tr>\n",
       "      <th>proportion</th>\n",
       "      <td>0.791434</td>\n",
       "      <td>0.149531</td>\n",
       "      <td>0.039704</td>\n",
       "      <td>0.019331</td>\n",
       "    </tr>\n",
       "  </tbody>\n",
       "</table>\n",
       "</div>"
      ],
      "text/plain": [
       "previous           0         1         2         3\n",
       "proportion  0.791434  0.149531  0.039704  0.019331"
      ]
     },
     "metadata": {},
     "output_type": "display_data"
    },
    {
     "data": {
      "text/html": [
       "<div>\n",
       "<style scoped>\n",
       "    .dataframe tbody tr th:only-of-type {\n",
       "        vertical-align: middle;\n",
       "    }\n",
       "\n",
       "    .dataframe tbody tr th {\n",
       "        vertical-align: top;\n",
       "    }\n",
       "\n",
       "    .dataframe thead th {\n",
       "        text-align: right;\n",
       "    }\n",
       "</style>\n",
       "<table border=\"1\" class=\"dataframe\">\n",
       "  <thead>\n",
       "    <tr style=\"text-align: right;\">\n",
       "      <th>campaign</th>\n",
       "      <th>1</th>\n",
       "      <th>2</th>\n",
       "      <th>3</th>\n",
       "      <th>4</th>\n",
       "      <th>5</th>\n",
       "      <th>9</th>\n",
       "      <th>6</th>\n",
       "      <th>7</th>\n",
       "      <th>8</th>\n",
       "    </tr>\n",
       "  </thead>\n",
       "  <tbody>\n",
       "    <tr>\n",
       "      <th>proportion</th>\n",
       "      <td>0.45371</td>\n",
       "      <td>0.258505</td>\n",
       "      <td>0.126883</td>\n",
       "      <td>0.060172</td>\n",
       "      <td>0.034493</td>\n",
       "      <td>0.026059</td>\n",
       "      <td>0.020752</td>\n",
       "      <td>0.011655</td>\n",
       "      <td>0.00777</td>\n",
       "    </tr>\n",
       "  </tbody>\n",
       "</table>\n",
       "</div>"
      ],
      "text/plain": [
       "campaign          1         2         3         4         5         9  \\\n",
       "proportion  0.45371  0.258505  0.126883  0.060172  0.034493  0.026059   \n",
       "\n",
       "campaign           6         7        8  \n",
       "proportion  0.020752  0.011655  0.00777  "
      ]
     },
     "metadata": {},
     "output_type": "display_data"
    },
    {
     "data": {
      "text/html": [
       "<div>\n",
       "<style scoped>\n",
       "    .dataframe tbody tr th:only-of-type {\n",
       "        vertical-align: middle;\n",
       "    }\n",
       "\n",
       "    .dataframe tbody tr th {\n",
       "        vertical-align: top;\n",
       "    }\n",
       "\n",
       "    .dataframe thead th {\n",
       "        text-align: right;\n",
       "    }\n",
       "</style>\n",
       "<table border=\"1\" class=\"dataframe\">\n",
       "  <thead>\n",
       "    <tr style=\"text-align: right;\">\n",
       "      <th>age</th>\n",
       "      <th>60</th>\n",
       "      <th>31</th>\n",
       "      <th>33</th>\n",
       "      <th>30</th>\n",
       "      <th>35</th>\n",
       "      <th>32</th>\n",
       "      <th>36</th>\n",
       "      <th>34</th>\n",
       "      <th>29</th>\n",
       "      <th>24</th>\n",
       "      <th>...</th>\n",
       "      <th>25</th>\n",
       "      <th>56</th>\n",
       "      <th>53</th>\n",
       "      <th>51</th>\n",
       "      <th>49</th>\n",
       "      <th>54</th>\n",
       "      <th>55</th>\n",
       "      <th>57</th>\n",
       "      <th>58</th>\n",
       "      <th>59</th>\n",
       "    </tr>\n",
       "  </thead>\n",
       "  <tbody>\n",
       "    <tr>\n",
       "      <th>proportion</th>\n",
       "      <td>0.054013</td>\n",
       "      <td>0.046811</td>\n",
       "      <td>0.043969</td>\n",
       "      <td>0.043116</td>\n",
       "      <td>0.042547</td>\n",
       "      <td>0.042263</td>\n",
       "      <td>0.039894</td>\n",
       "      <td>0.038757</td>\n",
       "      <td>0.038093</td>\n",
       "      <td>0.036388</td>\n",
       "      <td>...</td>\n",
       "      <td>0.017625</td>\n",
       "      <td>0.017625</td>\n",
       "      <td>0.017625</td>\n",
       "      <td>0.017246</td>\n",
       "      <td>0.016867</td>\n",
       "      <td>0.015825</td>\n",
       "      <td>0.01374</td>\n",
       "      <td>0.013645</td>\n",
       "      <td>0.013361</td>\n",
       "      <td>0.011466</td>\n",
       "    </tr>\n",
       "  </tbody>\n",
       "</table>\n",
       "<p>1 rows × 37 columns</p>\n",
       "</div>"
      ],
      "text/plain": [
       "age               60        31        33        30        35        32  \\\n",
       "proportion  0.054013  0.046811  0.043969  0.043116  0.042547  0.042263   \n",
       "\n",
       "age               36        34        29        24  ...        25        56  \\\n",
       "proportion  0.039894  0.038757  0.038093  0.036388  ...  0.017625  0.017625   \n",
       "\n",
       "age               53        51        49        54       55        57  \\\n",
       "proportion  0.017625  0.017246  0.016867  0.015825  0.01374  0.013645   \n",
       "\n",
       "age               58        59  \n",
       "proportion  0.013361  0.011466  \n",
       "\n",
       "[1 rows x 37 columns]"
      ]
     },
     "metadata": {},
     "output_type": "display_data"
    }
   ],
   "source": [
    "df1.loc[df1['previous'] > 3, 'previous'] = 3\n",
    "df1.loc[df1['campaign'] > 9, 'campaign'] = 9\n",
    "\n",
    "df1.loc[df1['age'] < 24, 'age'] = 24\n",
    "df1.loc[df1['age'] > 60, 'age'] = 60\n",
    "\n",
    "z_features = ['previous', 'campaign', 'age']\n",
    "for f in z_features:\n",
    "    display(df1[f].value_counts(normalize=True).to_frame().T)\n"
   ]
  },
  {
   "cell_type": "code",
   "execution_count": 10,
   "metadata": {},
   "outputs": [],
   "source": [
    "df1 = df1.drop('pdays', axis=1)"
   ]
  },
  {
   "cell_type": "code",
   "execution_count": 11,
   "metadata": {},
   "outputs": [
    {
     "name": "stdout",
     "output_type": "stream",
     "text": [
      "Rare cases count: 100, Percentage: 0.00937207122774133\n",
      "After drop, df shape: (10670, 21)\n"
     ]
    }
   ],
   "source": [
    "rare_values_nr_employed = [5176.3, 5023.5]\n",
    "rare_values_emp_var_rate = [-0.2, -3.0]\n",
    "\n",
    "condition = (df1['nr.employed'].isin(rare_values_nr_employed)) | (df1['emp.var.rate'].isin(rare_values_emp_var_rate))\n",
    "\n",
    "rare_cases_count = df1[condition].shape[0]\n",
    "rare_cases_percentage = rare_cases_count / df.shape[0]\n",
    "\n",
    "df1 = df1.drop(df1[condition].index)\n",
    "print(f'Rare cases count: {rare_cases_count}, Percentage: {rare_cases_percentage}')\n",
    "print(f'After drop, df shape: {df.shape}')"
   ]
  },
  {
   "cell_type": "markdown",
   "metadata": {},
   "source": [
    "<br><br> Переведем 'duration' в категориальные переменные"
   ]
  },
  {
   "cell_type": "code",
   "execution_count": 12,
   "metadata": {},
   "outputs": [],
   "source": [
    "df1.loc[df1['duration'] <= 102, 'duration'] = 1\n",
    "df1.loc[(df1['duration'] > 102) & (df1['duration'] <= 180)  , 'duration'] = 2\n",
    "df1.loc[(df1['duration'] > 180) & (df1['duration'] <= 319)  , 'duration'] = 3\n",
    "df1.loc[(df1['duration'] > 319) & (df1['duration'] <= 644.5), 'duration'] = 4\n",
    "df1.loc[df1['duration']  > 644.5, 'duration'] = 5"
   ]
  },
  {
   "cell_type": "markdown",
   "metadata": {},
   "source": [
    "<br><br>\n",
    "Проведем стандартизацию оставшихся числовых фичей."
   ]
  },
  {
   "cell_type": "code",
   "execution_count": 13,
   "metadata": {},
   "outputs": [],
   "source": [
    "from sklearn.preprocessing import StandardScaler"
   ]
  },
  {
   "cell_type": "code",
   "execution_count": 14,
   "metadata": {},
   "outputs": [],
   "source": [
    "numerical_features = list(set(cols_num1) - {'target','pdays','duration'})\n",
    "scaler = StandardScaler()\n",
    "df1[numerical_features] = scaler.fit_transform(df1[numerical_features])"
   ]
  },
  {
   "cell_type": "markdown",
   "metadata": {},
   "source": [
    "<br><br>\n",
    "#### Подводим итог"
   ]
  },
  {
   "cell_type": "code",
   "execution_count": 15,
   "metadata": {},
   "outputs": [
    {
     "data": {
      "text/html": [
       "\n",
       "    <b>Shape:</b> 10453 rows x 20 columns\n",
       "    <br><b>Duplicates:</b> 39\n",
       "    <br><b>Rows with null values:</b> 0<hr>"
      ],
      "text/plain": [
       "<IPython.core.display.HTML object>"
      ]
     },
     "metadata": {},
     "output_type": "display_data"
    },
    {
     "data": {
      "text/html": [
       "<div>\n",
       "<style scoped>\n",
       "    .dataframe tbody tr th:only-of-type {\n",
       "        vertical-align: middle;\n",
       "    }\n",
       "\n",
       "    .dataframe tbody tr th {\n",
       "        vertical-align: top;\n",
       "    }\n",
       "\n",
       "    .dataframe thead th {\n",
       "        text-align: right;\n",
       "    }\n",
       "</style>\n",
       "<table border=\"1\" class=\"dataframe\">\n",
       "  <thead>\n",
       "    <tr style=\"text-align: right;\">\n",
       "      <th></th>\n",
       "      <th>count</th>\n",
       "      <th>mean</th>\n",
       "      <th>std</th>\n",
       "      <th>min</th>\n",
       "      <th>25%</th>\n",
       "      <th>50%</th>\n",
       "      <th>75%</th>\n",
       "      <th>max</th>\n",
       "    </tr>\n",
       "  </thead>\n",
       "  <tbody>\n",
       "    <tr>\n",
       "      <th>age</th>\n",
       "      <td>10453.0</td>\n",
       "      <td>2.229580e-16</td>\n",
       "      <td>1.000048</td>\n",
       "      <td>-1.534716</td>\n",
       "      <td>-0.853816</td>\n",
       "      <td>-0.172917</td>\n",
       "      <td>0.799797</td>\n",
       "      <td>1.967054</td>\n",
       "    </tr>\n",
       "    <tr>\n",
       "      <th>job</th>\n",
       "      <td>10453.0</td>\n",
       "      <td>3.761217e+00</td>\n",
       "      <td>3.576510</td>\n",
       "      <td>0.000000</td>\n",
       "      <td>0.000000</td>\n",
       "      <td>3.000000</td>\n",
       "      <td>7.000000</td>\n",
       "      <td>10.000000</td>\n",
       "    </tr>\n",
       "    <tr>\n",
       "      <th>marital</th>\n",
       "      <td>10453.0</td>\n",
       "      <td>1.205683e+00</td>\n",
       "      <td>0.610674</td>\n",
       "      <td>0.000000</td>\n",
       "      <td>1.000000</td>\n",
       "      <td>1.000000</td>\n",
       "      <td>2.000000</td>\n",
       "      <td>2.000000</td>\n",
       "    </tr>\n",
       "    <tr>\n",
       "      <th>education</th>\n",
       "      <td>10453.0</td>\n",
       "      <td>3.372620e+00</td>\n",
       "      <td>1.690387</td>\n",
       "      <td>0.000000</td>\n",
       "      <td>2.000000</td>\n",
       "      <td>3.000000</td>\n",
       "      <td>5.000000</td>\n",
       "      <td>6.000000</td>\n",
       "    </tr>\n",
       "    <tr>\n",
       "      <th>default</th>\n",
       "      <td>10453.0</td>\n",
       "      <td>1.732517e-01</td>\n",
       "      <td>0.378483</td>\n",
       "      <td>0.000000</td>\n",
       "      <td>0.000000</td>\n",
       "      <td>0.000000</td>\n",
       "      <td>0.000000</td>\n",
       "      <td>1.000000</td>\n",
       "    </tr>\n",
       "    <tr>\n",
       "      <th>housing</th>\n",
       "      <td>10453.0</td>\n",
       "      <td>1.070506e+00</td>\n",
       "      <td>0.986371</td>\n",
       "      <td>0.000000</td>\n",
       "      <td>0.000000</td>\n",
       "      <td>2.000000</td>\n",
       "      <td>2.000000</td>\n",
       "      <td>2.000000</td>\n",
       "    </tr>\n",
       "    <tr>\n",
       "      <th>loan</th>\n",
       "      <td>10453.0</td>\n",
       "      <td>3.289008e-01</td>\n",
       "      <td>0.726279</td>\n",
       "      <td>0.000000</td>\n",
       "      <td>0.000000</td>\n",
       "      <td>0.000000</td>\n",
       "      <td>0.000000</td>\n",
       "      <td>2.000000</td>\n",
       "    </tr>\n",
       "    <tr>\n",
       "      <th>contact</th>\n",
       "      <td>10453.0</td>\n",
       "      <td>2.893906e-01</td>\n",
       "      <td>0.453501</td>\n",
       "      <td>0.000000</td>\n",
       "      <td>0.000000</td>\n",
       "      <td>0.000000</td>\n",
       "      <td>1.000000</td>\n",
       "      <td>1.000000</td>\n",
       "    </tr>\n",
       "    <tr>\n",
       "      <th>month</th>\n",
       "      <td>10453.0</td>\n",
       "      <td>4.228738e+00</td>\n",
       "      <td>2.483318</td>\n",
       "      <td>0.000000</td>\n",
       "      <td>3.000000</td>\n",
       "      <td>4.000000</td>\n",
       "      <td>6.000000</td>\n",
       "      <td>9.000000</td>\n",
       "    </tr>\n",
       "    <tr>\n",
       "      <th>day_of_week</th>\n",
       "      <td>10453.0</td>\n",
       "      <td>2.013967e+00</td>\n",
       "      <td>1.397060</td>\n",
       "      <td>0.000000</td>\n",
       "      <td>1.000000</td>\n",
       "      <td>2.000000</td>\n",
       "      <td>3.000000</td>\n",
       "      <td>4.000000</td>\n",
       "    </tr>\n",
       "    <tr>\n",
       "      <th>duration</th>\n",
       "      <td>10453.0</td>\n",
       "      <td>3.023438e+00</td>\n",
       "      <td>1.329666</td>\n",
       "      <td>1.000000</td>\n",
       "      <td>2.000000</td>\n",
       "      <td>3.000000</td>\n",
       "      <td>4.000000</td>\n",
       "      <td>5.000000</td>\n",
       "    </tr>\n",
       "    <tr>\n",
       "      <th>campaign</th>\n",
       "      <td>10453.0</td>\n",
       "      <td>9.788401e-17</td>\n",
       "      <td>1.000048</td>\n",
       "      <td>-0.703985</td>\n",
       "      <td>-0.703985</td>\n",
       "      <td>-0.149444</td>\n",
       "      <td>0.405096</td>\n",
       "      <td>3.732338</td>\n",
       "    </tr>\n",
       "    <tr>\n",
       "      <th>previous</th>\n",
       "      <td>10453.0</td>\n",
       "      <td>-5.438000e-17</td>\n",
       "      <td>1.000048</td>\n",
       "      <td>-0.449879</td>\n",
       "      <td>-0.449879</td>\n",
       "      <td>-0.449879</td>\n",
       "      <td>-0.449879</td>\n",
       "      <td>4.314641</td>\n",
       "    </tr>\n",
       "    <tr>\n",
       "      <th>poutcome</th>\n",
       "      <td>10453.0</td>\n",
       "      <td>9.728308e-01</td>\n",
       "      <td>0.452941</td>\n",
       "      <td>0.000000</td>\n",
       "      <td>1.000000</td>\n",
       "      <td>1.000000</td>\n",
       "      <td>1.000000</td>\n",
       "      <td>2.000000</td>\n",
       "    </tr>\n",
       "    <tr>\n",
       "      <th>emp.var.rate</th>\n",
       "      <td>10453.0</td>\n",
       "      <td>-1.087600e-16</td>\n",
       "      <td>1.000048</td>\n",
       "      <td>-1.779298</td>\n",
       "      <td>-0.837398</td>\n",
       "      <td>0.163372</td>\n",
       "      <td>1.046404</td>\n",
       "      <td>1.046404</td>\n",
       "    </tr>\n",
       "    <tr>\n",
       "      <th>cons.price.idx</th>\n",
       "      <td>10453.0</td>\n",
       "      <td>-8.940073e-15</td>\n",
       "      <td>1.000048</td>\n",
       "      <td>-2.086629</td>\n",
       "      <td>-0.861014</td>\n",
       "      <td>-0.087365</td>\n",
       "      <td>0.797265</td>\n",
       "      <td>2.040573</td>\n",
       "    </tr>\n",
       "    <tr>\n",
       "      <th>cons.conf.idx</th>\n",
       "      <td>10453.0</td>\n",
       "      <td>2.311150e-16</td>\n",
       "      <td>1.000048</td>\n",
       "      <td>-1.991976</td>\n",
       "      <td>-0.444559</td>\n",
       "      <td>-0.272623</td>\n",
       "      <td>0.758988</td>\n",
       "      <td>2.573860</td>\n",
       "    </tr>\n",
       "    <tr>\n",
       "      <th>euribor3m</th>\n",
       "      <td>10453.0</td>\n",
       "      <td>-2.501480e-16</td>\n",
       "      <td>1.000048</td>\n",
       "      <td>-1.312762</td>\n",
       "      <td>-0.977405</td>\n",
       "      <td>0.548788</td>\n",
       "      <td>0.997354</td>\n",
       "      <td>1.042745</td>\n",
       "    </tr>\n",
       "    <tr>\n",
       "      <th>nr.employed</th>\n",
       "      <td>10453.0</td>\n",
       "      <td>5.438000e-16</td>\n",
       "      <td>1.000048</td>\n",
       "      <td>-2.103330</td>\n",
       "      <td>-0.506022</td>\n",
       "      <td>0.577318</td>\n",
       "      <td>1.014663</td>\n",
       "      <td>1.014663</td>\n",
       "    </tr>\n",
       "    <tr>\n",
       "      <th>target</th>\n",
       "      <td>10453.0</td>\n",
       "      <td>4.305941e-01</td>\n",
       "      <td>0.495183</td>\n",
       "      <td>0.000000</td>\n",
       "      <td>0.000000</td>\n",
       "      <td>0.000000</td>\n",
       "      <td>1.000000</td>\n",
       "      <td>1.000000</td>\n",
       "    </tr>\n",
       "  </tbody>\n",
       "</table>\n",
       "</div>"
      ],
      "text/plain": [
       "                  count          mean       std       min       25%       50%  \\\n",
       "age             10453.0  2.229580e-16  1.000048 -1.534716 -0.853816 -0.172917   \n",
       "job             10453.0  3.761217e+00  3.576510  0.000000  0.000000  3.000000   \n",
       "marital         10453.0  1.205683e+00  0.610674  0.000000  1.000000  1.000000   \n",
       "education       10453.0  3.372620e+00  1.690387  0.000000  2.000000  3.000000   \n",
       "default         10453.0  1.732517e-01  0.378483  0.000000  0.000000  0.000000   \n",
       "housing         10453.0  1.070506e+00  0.986371  0.000000  0.000000  2.000000   \n",
       "loan            10453.0  3.289008e-01  0.726279  0.000000  0.000000  0.000000   \n",
       "contact         10453.0  2.893906e-01  0.453501  0.000000  0.000000  0.000000   \n",
       "month           10453.0  4.228738e+00  2.483318  0.000000  3.000000  4.000000   \n",
       "day_of_week     10453.0  2.013967e+00  1.397060  0.000000  1.000000  2.000000   \n",
       "duration        10453.0  3.023438e+00  1.329666  1.000000  2.000000  3.000000   \n",
       "campaign        10453.0  9.788401e-17  1.000048 -0.703985 -0.703985 -0.149444   \n",
       "previous        10453.0 -5.438000e-17  1.000048 -0.449879 -0.449879 -0.449879   \n",
       "poutcome        10453.0  9.728308e-01  0.452941  0.000000  1.000000  1.000000   \n",
       "emp.var.rate    10453.0 -1.087600e-16  1.000048 -1.779298 -0.837398  0.163372   \n",
       "cons.price.idx  10453.0 -8.940073e-15  1.000048 -2.086629 -0.861014 -0.087365   \n",
       "cons.conf.idx   10453.0  2.311150e-16  1.000048 -1.991976 -0.444559 -0.272623   \n",
       "euribor3m       10453.0 -2.501480e-16  1.000048 -1.312762 -0.977405  0.548788   \n",
       "nr.employed     10453.0  5.438000e-16  1.000048 -2.103330 -0.506022  0.577318   \n",
       "target          10453.0  4.305941e-01  0.495183  0.000000  0.000000  0.000000   \n",
       "\n",
       "                     75%        max  \n",
       "age             0.799797   1.967054  \n",
       "job             7.000000  10.000000  \n",
       "marital         2.000000   2.000000  \n",
       "education       5.000000   6.000000  \n",
       "default         0.000000   1.000000  \n",
       "housing         2.000000   2.000000  \n",
       "loan            0.000000   2.000000  \n",
       "contact         1.000000   1.000000  \n",
       "month           6.000000   9.000000  \n",
       "day_of_week     3.000000   4.000000  \n",
       "duration        4.000000   5.000000  \n",
       "campaign        0.405096   3.732338  \n",
       "previous       -0.449879   4.314641  \n",
       "poutcome        1.000000   2.000000  \n",
       "emp.var.rate    1.046404   1.046404  \n",
       "cons.price.idx  0.797265   2.040573  \n",
       "cons.conf.idx   0.758988   2.573860  \n",
       "euribor3m       0.997354   1.042745  \n",
       "nr.employed     1.014663   1.014663  \n",
       "target          1.000000   1.000000  "
      ]
     },
     "metadata": {},
     "output_type": "display_data"
    },
    {
     "data": {
      "text/html": [
       "<hr><b>Numeric columns (20):</b>"
      ],
      "text/plain": [
       "<IPython.core.display.HTML object>"
      ]
     },
     "metadata": {},
     "output_type": "display_data"
    },
    {
     "name": "stdout",
     "output_type": "stream",
     "text": [
      "['age', 'job', 'marital', 'education', 'default', 'housing', 'loan', 'contact', 'month', 'day_of_week', 'duration', 'campaign', 'previous', 'poutcome', 'emp.var.rate', 'cons.price.idx', 'cons.conf.idx', 'euribor3m', 'nr.employed', 'target']\n"
     ]
    },
    {
     "data": {
      "text/html": [
       "<hr>\n",
       "<b>Balance</b>"
      ],
      "text/plain": [
       "<IPython.core.display.HTML object>"
      ]
     },
     "metadata": {},
     "output_type": "display_data"
    },
    {
     "data": {
      "text/plain": [
       "target\n",
       "0    0.569406\n",
       "1    0.430594\n",
       "Name: proportion, dtype: float64"
      ]
     },
     "metadata": {},
     "output_type": "display_data"
    }
   ],
   "source": [
    "cols_num1, cols_str1 = short_describe(df1, target_name='target')"
   ]
  },
  {
   "cell_type": "markdown",
   "metadata": {},
   "source": [
    "## 3. Логистическая регрессия"
   ]
  },
  {
   "cell_type": "code",
   "execution_count": 16,
   "metadata": {},
   "outputs": [],
   "source": [
    "from sklearn.model_selection import train_test_split\n",
    "from sklearn.linear_model import LogisticRegression\n",
    "from sklearn.metrics import accuracy_score, confusion_matrix, classification_report\n",
    "from sklearn import linear_model, datasets\n",
    "\n",
    "from rlr import RegLogReg\n",
    "%load_ext autoreload\n",
    "%autoreload 2"
   ]
  },
  {
   "cell_type": "code",
   "execution_count": 17,
   "metadata": {},
   "outputs": [
    {
     "name": "stdout",
     "output_type": "stream",
     "text": [
      "Accuracy LogisticRegression:\n",
      " 0.8520408163265306\n",
      "Accuracy RegLogReg:\n",
      " 0.8504464285714286 \n",
      "\n",
      "confusion matrix LogisticRegression: \n",
      "[[1533  246]\n",
      " [ 218 1139]]\n",
      "confusion matrix RegLogReg: \n",
      "[[1533  246]\n",
      " [ 223 1134]]\n",
      "\n",
      "classification report LogisticRegression: \n",
      "              precision    recall  f1-score   support\n",
      "\n",
      "           0       0.88      0.86      0.87      1779\n",
      "           1       0.82      0.84      0.83      1357\n",
      "\n",
      "    accuracy                           0.85      3136\n",
      "   macro avg       0.85      0.85      0.85      3136\n",
      "weighted avg       0.85      0.85      0.85      3136\n",
      "\n",
      "classification report RegLogReg: \n",
      "              precision    recall  f1-score   support\n",
      "\n",
      "           0       0.87      0.86      0.87      1779\n",
      "           1       0.82      0.84      0.83      1357\n",
      "\n",
      "    accuracy                           0.85      3136\n",
      "   macro avg       0.85      0.85      0.85      3136\n",
      "weighted avg       0.85      0.85      0.85      3136\n",
      "\n"
     ]
    }
   ],
   "source": [
    "X = df1[['age', 'job', 'marital', 'education', 'default', 'housing', 'loan', 'contact', 'month', 'day_of_week', 'duration', 'campaign', 'previous', 'poutcome', 'emp.var.rate', 'cons.price.idx', 'cons.conf.idx', 'euribor3m', 'nr.employed']]\n",
    "y = df1['target']\n",
    "\n",
    "# Разделяем данные на обучающий и тестовый наборы\n",
    "X_train, X_test, y_train, y_test = train_test_split(X, y, test_size=0.3, random_state=202402)\n",
    "\n",
    "# Инициализируем и обучаем модель логистической регрессии\n",
    "model = LogisticRegression(max_iter=1000)\n",
    "model.fit(X_train, y_train)\n",
    "\n",
    "model1 = RegLogReg()\n",
    "model1.fit(X_train, y_train)\n",
    "\n",
    "# Делаем предсказания\n",
    "y_pred = model.predict(X_test)\n",
    "y_pred1 = model1.predict(X_test)\n",
    "\n",
    "# Оцениваем качество модели\n",
    "print(\"Accuracy LogisticRegression:\\n\", accuracy_score(y_test, y_pred))\n",
    "print(\"Accuracy RegLogReg:\\n\", accuracy_score(y_test, y_pred1),'\\n')\n",
    "print(f'confusion matrix LogisticRegression: \\n{confusion_matrix(y_test, y_pred)}')\n",
    "print(f'confusion matrix RegLogReg: \\n{confusion_matrix(y_test, y_pred1)}\\n')\n",
    "print(f'classification report LogisticRegression: \\n{classification_report(y_test, y_pred)}')\n",
    "print(f'classification report RegLogReg: \\n{classification_report(y_test, y_pred1)}')"
   ]
  },
  {
   "cell_type": "code",
   "execution_count": null,
   "metadata": {},
   "outputs": [],
   "source": []
  },
  {
   "cell_type": "markdown",
   "metadata": {},
   "source": [
    "<hr><hr><hr>"
   ]
  },
  {
   "cell_type": "markdown",
   "metadata": {},
   "source": [
    "## Резервный набор данных для тестирования"
   ]
  },
  {
   "cell_type": "markdown",
   "metadata": {},
   "source": [
    "#### Heart disease\n",
    "framingham.csv - Logistic regression To predict heart disease, <a href=\"https://www.kaggle.com/datasets/dileep070/heart-disease-prediction-using-logistic-regression/data\">kaggle heart-disease-prediction-using-logistic-regression</a>"
   ]
  },
  {
   "cell_type": "code",
   "execution_count": 18,
   "metadata": {},
   "outputs": [
    {
     "data": {
      "text/html": [
       "\n",
       "    <b>Shape:</b> 1352 rows x 16 columns\n",
       "    <br><b>Duplicates:</b> 0\n",
       "    <br><b>Rows with null values:</b> 182<hr>"
      ],
      "text/plain": [
       "<IPython.core.display.HTML object>"
      ]
     },
     "metadata": {},
     "output_type": "display_data"
    },
    {
     "data": {
      "text/html": [
       "<div>\n",
       "<style scoped>\n",
       "    .dataframe tbody tr th:only-of-type {\n",
       "        vertical-align: middle;\n",
       "    }\n",
       "\n",
       "    .dataframe tbody tr th {\n",
       "        vertical-align: top;\n",
       "    }\n",
       "\n",
       "    .dataframe thead th {\n",
       "        text-align: right;\n",
       "    }\n",
       "</style>\n",
       "<table border=\"1\" class=\"dataframe\">\n",
       "  <thead>\n",
       "    <tr style=\"text-align: right;\">\n",
       "      <th></th>\n",
       "      <th>count</th>\n",
       "      <th>mean</th>\n",
       "      <th>std</th>\n",
       "      <th>min</th>\n",
       "      <th>25%</th>\n",
       "      <th>50%</th>\n",
       "      <th>75%</th>\n",
       "      <th>max</th>\n",
       "    </tr>\n",
       "  </thead>\n",
       "  <tbody>\n",
       "    <tr>\n",
       "      <th>male</th>\n",
       "      <td>1352.0</td>\n",
       "      <td>0.458580</td>\n",
       "      <td>0.498466</td>\n",
       "      <td>0.00</td>\n",
       "      <td>0.00</td>\n",
       "      <td>0.00</td>\n",
       "      <td>1.000</td>\n",
       "      <td>1.0</td>\n",
       "    </tr>\n",
       "    <tr>\n",
       "      <th>age</th>\n",
       "      <td>1352.0</td>\n",
       "      <td>51.175296</td>\n",
       "      <td>8.701032</td>\n",
       "      <td>32.00</td>\n",
       "      <td>44.00</td>\n",
       "      <td>51.00</td>\n",
       "      <td>58.000</td>\n",
       "      <td>70.0</td>\n",
       "    </tr>\n",
       "    <tr>\n",
       "      <th>education</th>\n",
       "      <td>1321.0</td>\n",
       "      <td>1.957608</td>\n",
       "      <td>1.039969</td>\n",
       "      <td>1.00</td>\n",
       "      <td>1.00</td>\n",
       "      <td>2.00</td>\n",
       "      <td>3.000</td>\n",
       "      <td>4.0</td>\n",
       "    </tr>\n",
       "    <tr>\n",
       "      <th>currentSmoker</th>\n",
       "      <td>1352.0</td>\n",
       "      <td>0.514053</td>\n",
       "      <td>0.499987</td>\n",
       "      <td>0.00</td>\n",
       "      <td>0.00</td>\n",
       "      <td>1.00</td>\n",
       "      <td>1.000</td>\n",
       "      <td>1.0</td>\n",
       "    </tr>\n",
       "    <tr>\n",
       "      <th>cigsPerDay</th>\n",
       "      <td>1345.0</td>\n",
       "      <td>9.719703</td>\n",
       "      <td>12.463438</td>\n",
       "      <td>0.00</td>\n",
       "      <td>0.00</td>\n",
       "      <td>1.00</td>\n",
       "      <td>20.000</td>\n",
       "      <td>70.0</td>\n",
       "    </tr>\n",
       "    <tr>\n",
       "      <th>BPMeds</th>\n",
       "      <td>1332.0</td>\n",
       "      <td>0.045045</td>\n",
       "      <td>0.207481</td>\n",
       "      <td>0.00</td>\n",
       "      <td>0.00</td>\n",
       "      <td>0.00</td>\n",
       "      <td>0.000</td>\n",
       "      <td>1.0</td>\n",
       "    </tr>\n",
       "    <tr>\n",
       "      <th>prevalentStroke</th>\n",
       "      <td>1352.0</td>\n",
       "      <td>0.008876</td>\n",
       "      <td>0.093827</td>\n",
       "      <td>0.00</td>\n",
       "      <td>0.00</td>\n",
       "      <td>0.00</td>\n",
       "      <td>0.000</td>\n",
       "      <td>1.0</td>\n",
       "    </tr>\n",
       "    <tr>\n",
       "      <th>prevalentHyp</th>\n",
       "      <td>1352.0</td>\n",
       "      <td>0.377959</td>\n",
       "      <td>0.485057</td>\n",
       "      <td>0.00</td>\n",
       "      <td>0.00</td>\n",
       "      <td>0.00</td>\n",
       "      <td>1.000</td>\n",
       "      <td>1.0</td>\n",
       "    </tr>\n",
       "    <tr>\n",
       "      <th>diabetes</th>\n",
       "      <td>1352.0</td>\n",
       "      <td>0.036243</td>\n",
       "      <td>0.186962</td>\n",
       "      <td>0.00</td>\n",
       "      <td>0.00</td>\n",
       "      <td>0.00</td>\n",
       "      <td>0.000</td>\n",
       "      <td>1.0</td>\n",
       "    </tr>\n",
       "    <tr>\n",
       "      <th>totChol</th>\n",
       "      <td>1340.0</td>\n",
       "      <td>239.475373</td>\n",
       "      <td>46.164399</td>\n",
       "      <td>107.00</td>\n",
       "      <td>208.00</td>\n",
       "      <td>237.00</td>\n",
       "      <td>266.000</td>\n",
       "      <td>600.0</td>\n",
       "    </tr>\n",
       "    <tr>\n",
       "      <th>sysBP</th>\n",
       "      <td>1352.0</td>\n",
       "      <td>136.349112</td>\n",
       "      <td>24.405223</td>\n",
       "      <td>83.50</td>\n",
       "      <td>119.00</td>\n",
       "      <td>132.00</td>\n",
       "      <td>148.125</td>\n",
       "      <td>295.0</td>\n",
       "    </tr>\n",
       "    <tr>\n",
       "      <th>diaBP</th>\n",
       "      <td>1352.0</td>\n",
       "      <td>84.367234</td>\n",
       "      <td>12.962364</td>\n",
       "      <td>48.00</td>\n",
       "      <td>75.50</td>\n",
       "      <td>83.00</td>\n",
       "      <td>92.000</td>\n",
       "      <td>142.5</td>\n",
       "    </tr>\n",
       "    <tr>\n",
       "      <th>BMI</th>\n",
       "      <td>1339.0</td>\n",
       "      <td>25.898962</td>\n",
       "      <td>4.084377</td>\n",
       "      <td>15.96</td>\n",
       "      <td>23.09</td>\n",
       "      <td>25.58</td>\n",
       "      <td>28.270</td>\n",
       "      <td>56.8</td>\n",
       "    </tr>\n",
       "    <tr>\n",
       "      <th>heartRate</th>\n",
       "      <td>1351.0</td>\n",
       "      <td>76.282754</td>\n",
       "      <td>11.890737</td>\n",
       "      <td>48.00</td>\n",
       "      <td>68.00</td>\n",
       "      <td>75.00</td>\n",
       "      <td>83.000</td>\n",
       "      <td>125.0</td>\n",
       "    </tr>\n",
       "    <tr>\n",
       "      <th>glucose</th>\n",
       "      <td>1234.0</td>\n",
       "      <td>84.681524</td>\n",
       "      <td>32.508927</td>\n",
       "      <td>40.00</td>\n",
       "      <td>71.00</td>\n",
       "      <td>78.00</td>\n",
       "      <td>87.000</td>\n",
       "      <td>394.0</td>\n",
       "    </tr>\n",
       "    <tr>\n",
       "      <th>target</th>\n",
       "      <td>1352.0</td>\n",
       "      <td>0.476331</td>\n",
       "      <td>0.499624</td>\n",
       "      <td>0.00</td>\n",
       "      <td>0.00</td>\n",
       "      <td>0.00</td>\n",
       "      <td>1.000</td>\n",
       "      <td>1.0</td>\n",
       "    </tr>\n",
       "  </tbody>\n",
       "</table>\n",
       "</div>"
      ],
      "text/plain": [
       "                  count        mean        std     min     25%     50%  \\\n",
       "male             1352.0    0.458580   0.498466    0.00    0.00    0.00   \n",
       "age              1352.0   51.175296   8.701032   32.00   44.00   51.00   \n",
       "education        1321.0    1.957608   1.039969    1.00    1.00    2.00   \n",
       "currentSmoker    1352.0    0.514053   0.499987    0.00    0.00    1.00   \n",
       "cigsPerDay       1345.0    9.719703  12.463438    0.00    0.00    1.00   \n",
       "BPMeds           1332.0    0.045045   0.207481    0.00    0.00    0.00   \n",
       "prevalentStroke  1352.0    0.008876   0.093827    0.00    0.00    0.00   \n",
       "prevalentHyp     1352.0    0.377959   0.485057    0.00    0.00    0.00   \n",
       "diabetes         1352.0    0.036243   0.186962    0.00    0.00    0.00   \n",
       "totChol          1340.0  239.475373  46.164399  107.00  208.00  237.00   \n",
       "sysBP            1352.0  136.349112  24.405223   83.50  119.00  132.00   \n",
       "diaBP            1352.0   84.367234  12.962364   48.00   75.50   83.00   \n",
       "BMI              1339.0   25.898962   4.084377   15.96   23.09   25.58   \n",
       "heartRate        1351.0   76.282754  11.890737   48.00   68.00   75.00   \n",
       "glucose          1234.0   84.681524  32.508927   40.00   71.00   78.00   \n",
       "target           1352.0    0.476331   0.499624    0.00    0.00    0.00   \n",
       "\n",
       "                     75%    max  \n",
       "male               1.000    1.0  \n",
       "age               58.000   70.0  \n",
       "education          3.000    4.0  \n",
       "currentSmoker      1.000    1.0  \n",
       "cigsPerDay        20.000   70.0  \n",
       "BPMeds             0.000    1.0  \n",
       "prevalentStroke    0.000    1.0  \n",
       "prevalentHyp       1.000    1.0  \n",
       "diabetes           0.000    1.0  \n",
       "totChol          266.000  600.0  \n",
       "sysBP            148.125  295.0  \n",
       "diaBP             92.000  142.5  \n",
       "BMI               28.270   56.8  \n",
       "heartRate         83.000  125.0  \n",
       "glucose           87.000  394.0  \n",
       "target             1.000    1.0  "
      ]
     },
     "metadata": {},
     "output_type": "display_data"
    },
    {
     "data": {
      "text/html": [
       "<hr><b>Numeric columns (16):</b>"
      ],
      "text/plain": [
       "<IPython.core.display.HTML object>"
      ]
     },
     "metadata": {},
     "output_type": "display_data"
    },
    {
     "name": "stdout",
     "output_type": "stream",
     "text": [
      "['male', 'age', 'education', 'currentSmoker', 'cigsPerDay', 'BPMeds', 'prevalentStroke', 'prevalentHyp', 'diabetes', 'totChol', 'sysBP', 'diaBP', 'BMI', 'heartRate', 'glucose', 'target']\n"
     ]
    },
    {
     "data": {
      "text/html": [
       "<hr>\n",
       "<b>Balance</b>"
      ],
      "text/plain": [
       "<IPython.core.display.HTML object>"
      ]
     },
     "metadata": {},
     "output_type": "display_data"
    },
    {
     "data": {
      "text/plain": [
       "target\n",
       "0    0.523669\n",
       "1    0.476331\n",
       "Name: proportion, dtype: float64"
      ]
     },
     "metadata": {},
     "output_type": "display_data"
    },
    {
     "name": "stdout",
     "output_type": "stream",
     "text": [
      "CPU times: user 133 ms, sys: 212 ms, total: 346 ms\n",
      "Wall time: 32.5 ms\n"
     ]
    }
   ],
   "source": [
    "%%time\n",
    "\n",
    "strFileName2='data/framingham.csv'\n",
    "df2 = pd.read_csv(strFileName2)\n",
    "df2.rename(columns={'TenYearCHD': 'target'}, inplace=True)\n",
    "\n",
    "# Создаем новый набор данных\n",
    "df2 = make_well_balance_df(df2)\n",
    "df2.name='Heart disease'\n",
    "\n",
    "cols_num2, cols_str2 = short_describe(df2, target_name='target')  "
   ]
  },
  {
   "cell_type": "code",
   "execution_count": null,
   "metadata": {},
   "outputs": [],
   "source": []
  }
 ],
 "metadata": {
  "anaconda-cloud": {},
  "kernelspec": {
   "display_name": "Python 3 (ipykernel)",
   "language": "python",
   "name": "python3"
  },
  "language_info": {
   "codemirror_mode": {
    "name": "ipython",
    "version": 3
   },
   "file_extension": ".py",
   "mimetype": "text/x-python",
   "name": "python",
   "nbconvert_exporter": "python",
   "pygments_lexer": "ipython3",
   "version": "3.10.12"
  }
 },
 "nbformat": 4,
 "nbformat_minor": 4
}
